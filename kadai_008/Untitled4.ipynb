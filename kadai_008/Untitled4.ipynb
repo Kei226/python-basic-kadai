{
  "nbformat": 4,
  "nbformat_minor": 0,
  "metadata": {
    "colab": {
      "provenance": []
    },
    "kernelspec": {
      "name": "python3",
      "display_name": "Python 3"
    },
    "language_info": {
      "name": "python"
    }
  },
  "cells": [
    {
      "cell_type": "code",
      "execution_count": 43,
      "metadata": {
        "colab": {
          "base_uri": "https://localhost:8080/"
        },
        "id": "QIy09cfeXi7b",
        "outputId": "3ec8a6c6-2d91-4db4-ccf8-3dca0ffa88e1"
      },
      "outputs": [
        {
          "output_type": "stream",
          "name": "stdout",
          "text": [
            "48\n",
            "Fizz\n"
          ]
        }
      ],
      "source": [
        "import random\n",
        "var=random.randint(1,100)\n",
        "print(var)\n",
        "\n",
        "if var%3==0 and var%5==0:\n",
        "  print(\"FizzBuzz\")\n",
        "\n",
        "elif var%3==0:\n",
        " print(\"Fizz\")\n",
        "\n",
        "elif var%5==0:\n",
        "     print(\"Buzz\")\n",
        "else:\n",
        "     print(var)\n"
      ]
    },
    {
      "cell_type": "code",
      "source": [],
      "metadata": {
        "id": "yQHWDyW7tmCx"
      },
      "execution_count": null,
      "outputs": []
    }
  ]
}