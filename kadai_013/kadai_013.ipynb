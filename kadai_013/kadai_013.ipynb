{
  "nbformat": 4,
  "nbformat_minor": 0,
  "metadata": {
    "colab": {
      "provenance": []
    },
    "kernelspec": {
      "name": "python3",
      "display_name": "Python 3"
    },
    "language_info": {
      "name": "python"
    }
  },
  "cells": [
    {
      "cell_type": "code",
      "execution_count": 11,
      "metadata": {
        "id": "7BLAcOnaWAV8",
        "colab": {
          "base_uri": "https://localhost:8080/"
        },
        "outputId": "907f5be5-93d2-44ce-8017-3dd3167615b6"
      },
      "outputs": [
        {
          "output_type": "stream",
          "name": "stdout",
          "text": [
            "110.0円\n"
          ]
        }
      ],
      "source": [
        "def calculate_price(price, tax_rate):\n",
        "\n",
        "   total=price+(price*tax_rate)\n",
        "\n",
        "   return total\n",
        "\n",
        "result=calculate_price(100,0.1)\n",
        "print(f\"{result}円\")\n",
        "\n",
        "\n"
      ]
    }
  ]
}