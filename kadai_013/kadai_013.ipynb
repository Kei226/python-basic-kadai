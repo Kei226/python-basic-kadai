{
  "nbformat": 4,
  "nbformat_minor": 0,
  "metadata": {
    "colab": {
      "provenance": []
    },
    "kernelspec": {
      "name": "python3",
      "display_name": "Python 3"
    },
    "language_info": {
      "name": "python"
    }
  },
  "cells": [
    {
      "cell_type": "code",
      "execution_count": 6,
      "metadata": {
        "id": "7BLAcOnaWAV8",
        "colab": {
          "base_uri": "https://localhost:8080/"
        },
        "outputId": "346940f6-f1d1-4a59-d69a-a419efb89d7a"
      },
      "outputs": [
        {
          "output_type": "stream",
          "name": "stdout",
          "text": [
            "99.99999999999999円\n"
          ]
        }
      ],
      "source": [
        "def calculate_tax(price):\n",
        "\n",
        "  tax=price/1.1\n",
        "\n",
        "  print(f\"{tax}円\")\n",
        "\n",
        "calculate_tax(110)\n",
        "\n"
      ]
    }
  ]
}