{
  "nbformat": 4,
  "nbformat_minor": 0,
  "metadata": {
    "colab": {
      "provenance": []
    },
    "kernelspec": {
      "name": "python3",
      "display_name": "Python 3"
    },
    "language_info": {
      "name": "python"
    }
  },
  "cells": [
    {
      "cell_type": "code",
      "execution_count": 8,
      "metadata": {
        "id": "7BLAcOnaWAV8",
        "colab": {
          "base_uri": "https://localhost:8080/"
        },
        "outputId": "dfadb413-3125-4948-bc2f-f0a526bc9eaa"
      },
      "outputs": [
        {
          "output_type": "stream",
          "name": "stdout",
          "text": [
            "110.0円\n"
          ]
        }
      ],
      "source": [
        "def calculate_price(price, tax_rate):\n",
        "\n",
        "  total=price+(price*tax_rate)\n",
        "\n",
        "  print(f\"{total}円\")\n",
        "\n",
        "calculate_price(100,0.1)\n",
        "\n"
      ]
    }
  ]
}