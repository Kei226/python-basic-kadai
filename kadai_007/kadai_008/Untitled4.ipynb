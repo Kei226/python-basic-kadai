{
  "nbformat": 4,
  "nbformat_minor": 0,
  "metadata": {
    "colab": {
      "provenance": []
    },
    "kernelspec": {
      "name": "python3",
      "display_name": "Python 3"
    },
    "language_info": {
      "name": "python"
    }
  },
  "cells": [
    {
      "cell_type": "code",
      "execution_count": 18,
      "metadata": {
        "colab": {
          "base_uri": "https://localhost:8080/"
        },
        "id": "QIy09cfeXi7b",
        "outputId": "48a3163b-e3eb-474f-e580-8fbce8702584"
      },
      "outputs": [
        {
          "output_type": "stream",
          "name": "stdout",
          "text": [
            "21\n",
            "Fizz\n"
          ]
        }
      ],
      "source": [
        "import random\n",
        "var=random.randint(1,100)\n",
        "print(var)\n",
        "\n",
        "if var%3==0:\n",
        " print(\"Fizz\")\n",
        "\n",
        "elif var%5==0:\n",
        "     print(\"Buzz\")\n",
        "\n",
        "elif var%3==0 and var%5==0:\n",
        "     print(\"FizzBuzz\")\n",
        "\n",
        "else:\n",
        "     print(var)\n"
      ]
    }
  ]
}