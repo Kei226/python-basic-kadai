{
  "nbformat": 4,
  "nbformat_minor": 0,
  "metadata": {
    "colab": {
      "provenance": []
    },
    "kernelspec": {
      "name": "python3",
      "display_name": "Python 3"
    },
    "language_info": {
      "name": "python"
    }
  },
  "cells": [
    {
      "cell_type": "code",
      "execution_count": 3,
      "metadata": {
        "colab": {
          "base_uri": "https://localhost:8080/"
        },
        "id": "yqNi9m2u9ojr",
        "outputId": "85227fd6-1797-4e6d-d9d3-4f971982e537"
      },
      "outputs": [
        {
          "output_type": "stream",
          "name": "stdout",
          "text": [
            "330.0\n"
          ]
        }
      ],
      "source": [
        "price1=100\n",
        "price2=200\n",
        "tax=1.1\n",
        "\n",
        "def total():\n",
        "   return price1+price2\n",
        "\n",
        "print(total()*tax)"
      ]
    }
  ]
}