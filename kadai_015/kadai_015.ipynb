{
  "nbformat": 4,
  "nbformat_minor": 0,
  "metadata": {
    "colab": {
      "provenance": []
    },
    "kernelspec": {
      "name": "python3",
      "display_name": "Python 3"
    },
    "language_info": {
      "name": "python"
    }
  },
  "cells": [
    {
      "cell_type": "code",
      "execution_count": 23,
      "metadata": {
        "colab": {
          "base_uri": "https://localhost:8080/"
        },
        "id": "Tsmh7r0TniZp",
        "outputId": "e1c54f49-4662-4ad3-b9f9-ebb431df7fff"
      },
      "outputs": [
        {
          "output_type": "stream",
          "name": "stdout",
          "text": [
            "侍太郎\n",
            "30\n"
          ]
        }
      ],
      "source": [
        "#クラスの作成\n",
        "class Human:\n",
        "      def __init__(self, name, age):\n",
        "         self.name=name\n",
        "         self.age=age\n",
        "\n",
        "#メソッドを定義する\n",
        "      def printinfo(self):\n",
        "          print(self.name)\n",
        "          print(self.age)\n",
        "\n",
        "person=Human(\"侍太郎\", 30)\n",
        "\n",
        "#メソッドの呼び出し\n",
        "person.printinfo()"
      ]
    }
  ]
}